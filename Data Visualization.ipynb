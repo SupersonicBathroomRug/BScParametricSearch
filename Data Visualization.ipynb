{
 "cells": [
  {
   "cell_type": "code",
   "execution_count": 16,
   "id": "838a6f2a",
   "metadata": {},
   "outputs": [],
   "source": [
    "import matplotlib\n",
    "import matplotlib.pyplot as plt\n",
    "import itertools\n",
    "import numpy as np\n",
    "from ipywidgets import *"
   ]
  },
  {
   "cell_type": "code",
   "execution_count": 39,
   "id": "ec13d8e2",
   "metadata": {},
   "outputs": [],
   "source": [
    "comparisons=np.loadtxt(\"op.txt\")"
   ]
  },
  {
   "cell_type": "code",
   "execution_count": 54,
   "id": "21d82b09",
   "metadata": {},
   "outputs": [
    {
     "name": "stdout",
     "output_type": "stream",
     "text": [
      "8619500.0 -2148790.0 2587.980351060648 0.6117283749363731\n"
     ]
    },
    {
     "data": {
      "image/png": "[encoded data removed]",
      "text/plain": [
       "<Figure size 432x288 with 1 Axes>"
      ]
     },
     "metadata": {
      "needs_background": "light"
     },
     "output_type": "display_data"
    }
   ],
   "source": [
    "fig, ax = plt.subplots()\n",
    "ax.hist(comparisons,bins=1000,linewidth=0,range=(-1,1));\n",
    "print(comparisons.max(),comparisons.min(),comparisons.std(),comparisons.mean())"
   ]
  },
  {
   "cell_type": "code",
   "execution_count": 41,
   "id": "63717372",
   "metadata": {},
   "outputs": [
    {
     "data": {
      "text/plain": [
       "array([ 0.836694,  8.71749 ,  0.451979,  0.837935,  0.437424,  0.134563,\n",
       "        0.255315,  0.448681,  0.686112,  0.110925,  4.31937 , -0.424995,\n",
       "        0.410705, -0.065125,  1.02005 ,  0.467883, -0.579808, -0.352359,\n",
       "        1.06068 , -0.933085])"
      ]
     },
     "execution_count": 41,
     "metadata": {},
     "output_type": "execute_result"
    }
   ],
   "source": [
    "comparisons[:20]"
   ]
  }
 ],
 "metadata": {
  "kernelspec": {
   "display_name": "Python 3 (ipykernel)",
   "language": "python",
   "name": "python3"
  },
  "language_info": {
   "codemirror_mode": {
    "name": "ipython",
    "version": 3
   },
   "file_extension": ".py",
   "mimetype": "text/x-python",
   "name": "python",
   "nbconvert_exporter": "python",
   "pygments_lexer": "ipython3",
   "version": "3.9.7"
  }
 },
 "nbformat": 4,
 "nbformat_minor": 5
}
